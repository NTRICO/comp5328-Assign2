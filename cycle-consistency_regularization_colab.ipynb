{
  "cells": [
    {
      "metadata": {
        "id": "331dd9a7608d7ffc"
      },
      "cell_type": "markdown",
      "source": [
        "## Load Library"
      ],
      "id": "331dd9a7608d7ffc"
    },
    {
      "cell_type": "code",
      "source": [
        "from google.colab import drive\n",
        "drive.mount('/content/drive')"
      ],
      "metadata": {
        "colab": {
          "base_uri": "https://localhost:8080/"
        },
        "id": "OFgKZLmoKBAd",
        "outputId": "18818b4c-764d-4afe-9791-fd67b6cbfec4"
      },
      "id": "OFgKZLmoKBAd",
      "execution_count": 7,
      "outputs": [
        {
          "output_type": "stream",
          "name": "stdout",
          "text": [
            "Mounted at /content/drive\n"
          ]
        }
      ]
    },
    {
      "cell_type": "code",
      "source": [
        "os.chdir('/content/drive/MyDrive')"
      ],
      "metadata": {
        "id": "WUqswZKWJx2K"
      },
      "id": "WUqswZKWJx2K",
      "execution_count": 10,
      "outputs": []
    },
    {
      "metadata": {
        "ExecuteTime": {
          "end_time": "2025-10-28T13:51:51.799802Z",
          "start_time": "2025-10-28T13:51:50.148947Z"
        },
        "id": "fa725d27b6efd992"
      },
      "cell_type": "code",
      "source": [
        "import numpy as np\n",
        "import torch\n",
        "import torch.nn as nn\n",
        "import torch.nn.functional as F\n",
        "from Cython.Compiler.Naming import args_cname\n",
        "from tensorboard.compat.tensorflow_stub.dtypes import float32\n",
        "from torch.utils.data import DataLoader, TensorDataset\n",
        "from typing import Tuple, Dict, Any, Optional\n",
        "from dataclasses import dataclass\n",
        "import tqdm\n",
        "import matplotlib.pyplot as plt\n",
        "from torchvision.models import resnet34\n",
        "import torch.optim as optim\n",
        "import os"
      ],
      "id": "fa725d27b6efd992",
      "outputs": [],
      "execution_count": 8
    },
    {
      "metadata": {
        "ExecuteTime": {
          "end_time": "2025-10-28T13:21:43.303460Z",
          "start_time": "2025-10-28T13:21:40.781393Z"
        },
        "id": "981d521b3f5319a2"
      },
      "cell_type": "code",
      "source": [
        "device = torch.device(\"cuda\" if torch.cuda.is_available() else \"cpu\")"
      ],
      "id": "981d521b3f5319a2",
      "outputs": [],
      "execution_count": 5
    },
    {
      "metadata": {
        "id": "13da974a2c67651f"
      },
      "cell_type": "markdown",
      "source": [
        "## Data loading"
      ],
      "id": "13da974a2c67651f"
    },
    {
      "metadata": {
        "ExecuteTime": {
          "end_time": "2025-10-28T13:33:39.408058Z",
          "start_time": "2025-10-28T13:33:39.395046Z"
        },
        "id": "4a04d7f0c76021d2"
      },
      "cell_type": "code",
      "source": [
        "def load_dataset(file_path, val_ratio=0.2, random_state=42):\n",
        "    dataset = np.load(file_path)\n",
        "    Xtr, Str = dataset['Xtr'], dataset['Str']\n",
        "    Xts, Yts = dataset['Xts'], dataset['Yts']\n",
        "\n",
        "    # Shuffle & split (80% train, 20% validation)\n",
        "    np.random.seed(random_state)\n",
        "    indices = np.arange(len(Str))\n",
        "    np.random.shuffle(indices)\n",
        "\n",
        "    split_idx = int(len(Str) * (1 - val_ratio))\n",
        "    train_idx, val_idx = indices[:split_idx], indices[split_idx:]\n",
        "\n",
        "    X_train, y_train = Xtr[train_idx], Str[train_idx]\n",
        "    X_val, y_val = Xtr[val_idx], Str[val_idx]\n",
        "\n",
        "    return X_train, y_train, X_val, y_val, Xts, Yts\n",
        "\n",
        "def reshape_mnist(*arrays):\n",
        "    reshaped = []\n",
        "\n",
        "    for arr in arrays:\n",
        "        if arr.ndim == 1:\n",
        "            arr = torch.tensor(arr, dtype=torch.long)\n",
        "        elif arr.ndim >= 2:\n",
        "            arr = arr.reshape(-1, 1, 28, 28)\n",
        "            arr = torch.tensor(arr, dtype=torch.float32) / 255.0\n",
        "            mean = torch.tensor(0.1307, dtype=torch.float32).view(1, 1, 1)\n",
        "            std  = torch.tensor(0.3081, dtype=torch.float32).view(1, 1, 1)\n",
        "            arr = (arr - mean) / std\n",
        "        reshaped.append(arr)\n",
        "    return tuple(reshaped)\n",
        "\n",
        "def reshape_cifar(*arrays):\n",
        "    reshaped = []\n",
        "    mean = torch.tensor([0.4914, 0.4822, 0.4465], dtype=torch.float32).view(3, 1, 1)\n",
        "    std  = torch.tensor([0.2023, 0.1994, 0.2010], dtype=torch.float32).view(3, 1, 1)\n",
        "    for arr in arrays:\n",
        "        if arr.ndim == 1:\n",
        "            arr = torch.tensor(arr, dtype=torch.long)\n",
        "        elif arr.ndim >= 2:\n",
        "            arr = np.transpose(arr, (0, 3, 1, 2))\n",
        "            arr = torch.tensor(arr, dtype=torch.float32) / 255.0\n",
        "            arr = (arr - mean) / std\n",
        "        reshaped.append(arr)\n",
        "    return tuple(reshaped)\n"
      ],
      "id": "4a04d7f0c76021d2",
      "outputs": [],
      "execution_count": 11
    },
    {
      "metadata": {
        "ExecuteTime": {
          "end_time": "2025-10-28T13:33:40.217263Z",
          "start_time": "2025-10-28T13:33:40.037515Z"
        },
        "id": "94753f7fe8e2ce2e"
      },
      "cell_type": "code",
      "source": [
        "Xtr_03, Str_03, Xval_03, Sval_03, Xts_03, Yts_03 = reshape_mnist(*load_dataset('datasets/FashionMNIST0.3.npz'))\n",
        "Xtr_06, Str_06, Xval_06, Sval_06, Xts_06, Yts_06 = reshape_mnist(*load_dataset('datasets/FashionMNIST0.6.npz'))\n",
        "Xtr_cifar, Str_cifar, Xval_cifar, Sval_cifar, Xts_cifar, Yts_cifar = reshape_cifar(*load_dataset('datasets/CIFAR.npz'))"
      ],
      "id": "94753f7fe8e2ce2e",
      "outputs": [],
      "execution_count": 12
    },
    {
      "metadata": {
        "ExecuteTime": {
          "end_time": "2025-10-28T13:33:40.781113Z",
          "start_time": "2025-10-28T13:33:40.768604Z"
        },
        "colab": {
          "base_uri": "https://localhost:8080/"
        },
        "id": "cd31fa31ebd84f7d",
        "outputId": "bf84eecf-131b-4bcb-ec4a-5fc05e983d93"
      },
      "cell_type": "code",
      "source": [
        "print(\"Xtr_03:\", Xtr_03.shape)\n",
        "print(\"Xtr_06:\", Xtr_06.shape)\n",
        "print(\"Xtr_cifar:\", Xtr_cifar.shape)"
      ],
      "id": "cd31fa31ebd84f7d",
      "outputs": [
        {
          "output_type": "stream",
          "name": "stdout",
          "text": [
            "Xtr_03: torch.Size([14400, 1, 28, 28])\n",
            "Xtr_06: torch.Size([14400, 1, 28, 28])\n",
            "Xtr_cifar: torch.Size([12000, 3, 32, 32])\n"
          ]
        }
      ],
      "execution_count": 14
    },
    {
      "metadata": {
        "ExecuteTime": {
          "end_time": "2025-10-28T13:33:41.637497Z",
          "start_time": "2025-10-28T13:33:41.566282Z"
        },
        "colab": {
          "base_uri": "https://localhost:8080/",
          "height": 452
        },
        "id": "635db7496d518a0e",
        "outputId": "fa1f6776-8d6a-4f43-ebf3-bbe8d75ae8fa"
      },
      "cell_type": "code",
      "source": [
        "# Mnist data checking\n",
        "plt.imshow(Xtr_03[114, -1, :, :], cmap='gray') #[pic number,_,_,_]\n",
        "plt.title(f\"Label: {Str_03[0]}\")\n",
        "plt.show()"
      ],
      "id": "635db7496d518a0e",
      "outputs": [
        {
          "output_type": "display_data",
          "data": {
            "text/plain": [
              "<Figure size 640x480 with 1 Axes>"
            ],
            "image/png": "[encoded data removed]"
          },
          "metadata": {}
        }
      ],
      "execution_count": 15
    },
    {
      "metadata": {
        "ExecuteTime": {
          "end_time": "2025-10-28T13:33:42.777321Z",
          "start_time": "2025-10-28T13:33:42.710432Z"
        },
        "colab": {
          "base_uri": "https://localhost:8080/",
          "height": 452
        },
        "id": "9483fb34c05f4089",
        "outputId": "d10cb08b-9830-466c-e9e0-c70d3c744867"
      },
      "cell_type": "code",
      "source": [
        "# CIFAR data checking\n",
        "mean_test = torch.tensor([0.4914, 0.4822, 0.4465], dtype=torch.float32).view(3, 1, 1)\n",
        "std_test  = torch.tensor([0.2023, 0.1994, 0.2010], dtype=torch.float32).view(3, 1, 1)\n",
        "test_cifar = Xtr_cifar[514] * std_test + mean_test\n",
        "plt.imshow(np.transpose(test_cifar, (1, -1, 0)))\n",
        "plt.title(f\"Label: {Str_cifar[0]}\")\n",
        "plt.show()"
      ],
      "id": "9483fb34c05f4089",
      "outputs": [
        {
          "output_type": "display_data",
          "data": {
            "text/plain": [
              "<Figure size 640x480 with 1 Axes>"
            ],
            "image/png": "[encoded data removed]"
          },
          "metadata": {}
        }
      ],
      "execution_count": 25
    },
    {
      "metadata": {
        "id": "b81e59830c889b5"
      },
      "cell_type": "markdown",
      "source": [
        "# Main Program"
      ],
      "id": "b81e59830c889b5"
    },
    {
      "metadata": {
        "id": "dd2dc1c0a8571ecb"
      },
      "cell_type": "markdown",
      "source": [
        "## Classifier: ResNet-34"
      ],
      "id": "dd2dc1c0a8571ecb"
    },
    {
      "metadata": {
        "ExecuteTime": {
          "end_time": "2025-10-26T05:55:11.786416Z",
          "start_time": "2025-10-26T05:55:11.770417Z"
        },
        "id": "fbd158abbbbfb37f"
      },
      "cell_type": "code",
      "source": [
        "# ---------------------------\n",
        "# Config\n",
        "# ---------------------------\n",
        "@dataclass\n",
        "class Cfg:\n",
        "    num_classes: int = 3\n",
        "    epochs: int = 60\n",
        "    batch_size: int = 128\n",
        "    lr: float = 0.01\n",
        "    momentum: float = 0.9\n",
        "    weight_decay: float = 1e-4\n",
        "    milestones: Tuple[int, int] = (30, 60)\n",
        "    lam: float = 0.3                 # weight for cycle term\n",
        "    n_epoch: int = 60\n",
        "    warmup_epoch: int = 10\n",
        "    anchor: bool = False\n",
        "    device: str = \"cuda\" if torch.cuda.is_available() else \"cpu\""
      ],
      "id": "fbd158abbbbfb37f",
      "outputs": [],
      "execution_count": 26
    },
    {
      "metadata": {
        "id": "e6a22e075ea1ad7e"
      },
      "cell_type": "code",
      "source": [
        "class BasicBlock(nn.Module):\n",
        "    expansion = 1\n",
        "    def __init__(self, in_planes, planes, stride=1):\n",
        "        super(BasicBlock, self).__init__()\n",
        "        self.conv1 = nn.Conv2d(in_planes, planes, kernel_size=3, stride=stride, padding=1, bias=False)\n",
        "        self.bn1 = nn.BatchNorm2d(planes)\n",
        "        self.conv2 = nn.Conv2d(planes, planes, kernel_size=3, stride=1, padding=1, bias=False)\n",
        "        self.bn2 = nn.BatchNorm2d(planes)\n",
        "\n",
        "        self.shortcut = nn.Sequential()\n",
        "        if stride != 1 or in_planes != self.expansion*planes:\n",
        "            self.shortcut = nn.Sequential(\n",
        "                nn.Conv2d(in_planes, self.expansion*planes, kernel_size=1, stride=stride, bias=False),\n",
        "                nn.BatchNorm2d(self.expansion*planes)\n",
        "            )\n",
        "\n",
        "    def forward(self, x):\n",
        "        out = F.relu(self.bn1(self.conv1(x)))\n",
        "        out = self.bn2(self.conv2(out))\n",
        "        out += self.shortcut(x)\n",
        "        out = F.relu(out)\n",
        "        return out\n",
        "\n",
        "class ResNet(nn.Module):\n",
        "    def __init__(self, block, num_blocks, num_classes,mode='cifar10'):\n",
        "        super(ResNet, self).__init__()\n",
        "        self.in_planes = 64\n",
        "        if mode == 'mnist':\n",
        "            self.conv1 = nn.Conv2d(1, 64, kernel_size=3, stride=1, padding=0, bias=False)\n",
        "        else:\n",
        "            self.conv1 = nn.Conv2d(3, 64, kernel_size=3, stride=1, padding=0, bias=False)\n",
        "        self.bn1 = nn.BatchNorm2d(64)\n",
        "        self.layer1 = self._make_layer(block, 64, num_blocks[0], stride=1)\n",
        "        self.layer2 = self._make_layer(block, 128, num_blocks[1], stride=2)\n",
        "        self.layer3 = self._make_layer(block, 256, num_blocks[2], stride=2)\n",
        "        self.layer4 = self._make_layer(block, 512, num_blocks[3], stride=2)\n",
        "        self.linear = nn.Linear(512*block.expansion, num_classes)\n",
        "        self.avgpool = nn.AdaptiveAvgPool2d((1, 1))\n",
        "\n",
        "\n",
        "    def _make_layer(self, block, planes, num_blocks, stride):\n",
        "        strides = [stride] + [1]*(num_blocks-1)\n",
        "        layers = []\n",
        "        for stride in strides:\n",
        "            layers.append(block(self.in_planes, planes, stride))\n",
        "            self.in_planes = planes * block.expansion\n",
        "        return nn.Sequential(*layers)\n",
        "\n",
        "    def forward(self, x, revision=True):\n",
        "        out = F.relu(self.bn1(self.conv1(x)))\n",
        "        out = self.layer1(out)\n",
        "        out = self.layer2(out)\n",
        "        out = self.layer3(out)\n",
        "        out = self.layer4(out)\n",
        "        out = self.avgpool(out)\n",
        "        out = out.view(out.size(0), -1)\n",
        "\n",
        "        out = self.linear(out)\n",
        "\n",
        "        clean = F.softmax(out, 1)\n",
        "\n",
        "        return clean\n",
        "\n",
        "def ResNet34(num_classes):\n",
        "  return ResNet(BasicBlock, [3,4,6,3], num_classes)"
      ],
      "id": "e6a22e075ea1ad7e",
      "outputs": [],
      "execution_count": 27
    },
    {
      "metadata": {
        "ExecuteTime": {
          "end_time": "2025-10-26T13:47:55.966800Z",
          "start_time": "2025-10-26T13:47:55.936051Z"
        },
        "id": "7f3edb74af3457c1"
      },
      "cell_type": "code",
      "source": [
        "# ---------------------------\n",
        "# transition matrix\n",
        "# ---------------------------\n",
        "class sig_t(nn.Module):\n",
        "    def __init__(self, device, num_classes, init=2):\n",
        "        super(sig_t, self).__init__()\n",
        "\n",
        "        self.register_parameter('w', nn.Parameter(-init*torch.ones(3, 3, device=device)))\n",
        "\n",
        "        self.w.to(device)\n",
        "\n",
        "        co = torch.ones(num_classes, num_classes)\n",
        "        ind = np.diag_indices(co.shape[0])\n",
        "        co[ind[0], ind[1]] = torch.zeros(co.shape[0])\n",
        "        self.co = co.to(device)\n",
        "        self.identity = torch.eye(num_classes).to(device)\n",
        "\n",
        "\n",
        "    def forward(self):\n",
        "        sig = torch.sigmoid(self.w)\n",
        "        T = self.identity.detach() + sig * self.co.detach()\n",
        "        T = F.normalize(T, p=1, dim=1)\n",
        "        return T\n"
      ],
      "id": "7f3edb74af3457c1",
      "outputs": [],
      "execution_count": 28
    },
    {
      "metadata": {
        "id": "9d601f0fc872489f"
      },
      "cell_type": "code",
      "outputs": [],
      "execution_count": null,
      "source": [
        "def warmup(train_data, train_loader, model,optimizer_model, loss_func_ce):\n",
        "\n",
        "    model.train()\n",
        "    train_loss = 0.\n",
        "\n",
        "    for batch_x, batch_y in train_loader:\n",
        "        batch_x = batch_x.to(device)\n",
        "        batch_y = batch_y.to(device)\n",
        "\n",
        "        optimizer_model.zero_grad()\n",
        "\n",
        "        clean = model(batch_x)\n",
        "\n",
        "        ce_loss = loss_func_ce(clean.log(), batch_y.long())\n",
        "        res = torch.mean(torch.sum(clean.log() * clean, dim=1))\n",
        "        loss = ce_loss + res\n",
        "\n",
        "        train_loss += loss.item()\n",
        "\n",
        "        loss.backward()\n",
        "        optimizer_model.step()\n",
        "\n",
        "\n",
        "    print('Warmup Loss: {:.6f}'.format(train_loss / (len(train_data))*Cfg.batch_size))\n",
        "\n",
        "\n",
        "def train(train_data, train_loader,model,trans_for,trans_back,optimizer_es,optimizer_trans_for,optimizer_trans_back,scheduler1,scheduler2,scheduler3,loss_func_ce, Cfg):\n",
        "    model.train()\n",
        "    trans_for.train()\n",
        "    trans_back.train()\n",
        "\n",
        "    train_loss = 0.\n",
        "    train_acc = 0.\n",
        "\n",
        "    for batch_x, batch_y in train_loader:\n",
        "        batch_x = batch_x.to(device)\n",
        "        batch_y = torch.zeros(batch_x.size(0), Cfg.num_classes).scatter_(1, batch_y.view(-1,1), 1)\n",
        "        batch_y = batch_y.to(device)\n",
        "\n",
        "        clean = model(batch_x)\n",
        "        noise = F.softmax(batch_y, 1)\n",
        "\n",
        "        t_for = trans_for()\n",
        "        t_back = trans_back()\n",
        "\n",
        "        out = torch.mm(clean, t_for)\n",
        "        out1 = torch.mm(noise, t_back)\n",
        "\n",
        "        noise_y = torch.max(noise, dim=1)[1].detach()\n",
        "        clean_y = torch.max(clean, dim=1)[1].detach()\n",
        "        ce_loss = loss_func_ce(out.log(), noise_y.long())\n",
        "        ce_loss_1 =  loss_func_ce(out1.log(), clean_y.long())\n",
        "\n",
        "        for_back_1 = torch.mm(clean, t_for.detach())\n",
        "        for_back = torch.mm(for_back_1, t_back.detach())\n",
        "\n",
        "        loss_for_back = loss_func_ce(for_back.log(), clean_y.long())  #loss_func_ce(for_back.log(), clean_y.long()) #-torch.mean(torch.sum(for_back.log() * clean,dim=1)) #\n",
        "\n",
        "\n",
        "        loss = ce_loss  + ce_loss_1+ Cfg.lam * loss_for_back\n",
        "\n",
        "        train_loss += loss.item()\n",
        "\n",
        "        pred = torch.max(out, 1)[1]\n",
        "        train_correct = (pred == noise_y).sum()\n",
        "        train_acc += train_correct.item()\n",
        "\n",
        "        optimizer_es.zero_grad()\n",
        "        optimizer_trans_for.zero_grad()\n",
        "        optimizer_trans_back.zero_grad()\n",
        "\n",
        "        loss.backward()\n",
        "\n",
        "        optimizer_es.step()\n",
        "        optimizer_trans_for.step()\n",
        "        optimizer_trans_back.step()\n",
        "\n",
        "    print('Train Loss: {:.6f},  Acc: {:.6f}'.format(train_loss / (len(train_data))*Cfg.batch_size,  train_acc / (len(train_data))))\n",
        "\n",
        "    scheduler1.step()\n",
        "    scheduler2.step()\n",
        "    scheduler3.step()\n",
        "\n",
        "\n",
        "def val(val_data, val_loader, model, trans, loss_func_ce):\n",
        "    val_acc = 0.\n",
        "    val_loss = 0.\n",
        "\n",
        "    with torch.no_grad():\n",
        "        model.eval()\n",
        "        trans.eval()\n",
        "\n",
        "        for batch_x, batch_y in val_loader:\n",
        "            batch_x = batch_x.to(device)\n",
        "            batch_y = batch_y.to(device)\n",
        "            clean = model(batch_x)\n",
        "            t = trans()\n",
        "\n",
        "            out = torch.mm(clean, t)\n",
        "            loss = loss_func_ce(out.log(), batch_y.long())\n",
        "            val_loss += loss.item()\n",
        "            pred = torch.max(out, 1)[1]\n",
        "            val_correct = (pred == batch_y).sum()\n",
        "            val_acc += val_correct.item()\n",
        "\n",
        "\n",
        "    print('Val Loss: {:.6f}, Acc: {:.6f}'.format(val_loss / (len(val_data))*Cfg.batch_size, val_acc / (len(val_data))))\n",
        "\n",
        "def test(test_data, test_loader, model, loss_func_ce):\n",
        "    eval_loss = 0.\n",
        "    eval_acc = 0.\n",
        "\n",
        "    with torch.no_grad():\n",
        "        model.eval()\n",
        "\n",
        "        for batch_x, batch_y in test_loader:\n",
        "            batch_x = batch_x.to(device)\n",
        "            batch_y = batch_y.to(device)\n",
        "            clean = model(batch_x)\n",
        "\n",
        "            loss = loss_func_ce(clean.log(), batch_y.long())\n",
        "            eval_loss += loss.item()\n",
        "            pred = torch.max(clean, 1)[1]\n",
        "            eval_correct = (pred == batch_y).sum()\n",
        "            eval_acc += eval_correct.item()\n",
        "\n",
        "        print('Test Loss: {:.6f}, Acc: {:.6f}'.format(eval_loss / (len(test_data)) * Cfg.batch_size,\n",
        "                                                      eval_acc / (len(test_data))))\n",
        "    return eval_acc / (len(test_data))\n"
      ],
      "id": "9d601f0fc872489f"
    },
    {
      "metadata": {
        "id": "b71937c81e68aad9"
      },
      "cell_type": "code",
      "outputs": [],
      "execution_count": null,
      "source": [],
      "id": "b71937c81e68aad9"
    },
    {
      "metadata": {
        "id": "8dbbdbdfbb271868"
      },
      "cell_type": "code",
      "source": [
        "def main(dataset_name):\n",
        "    #init\n",
        "    print(Cfg)\n",
        "\n",
        "    criterion = torch.nn.NLLLoss(reduction=\"mean\")\n",
        "    model = ResNet34(Cfg.num_classes)\n",
        "    milestones = Cfg.milestones\n",
        "\n",
        "    if dataset_name.lower() in (\"mnist03\"):\n",
        "        Xtr, ytr, Xva, yva, Xte, yte = reshape_mnist(*load_dataset(\"datasets/FashionMNIST0.3.npz\"))\n",
        "    elif dataset_name.lower() in (\"mnist06\"):\n",
        "        Xtr, ytr, Xva, yva, Xte, yte = reshape_mnist(*load_dataset(\"datasets/FashionMNIST0.6.npz\")\n",
        "    elif dataset_name.lower() in (\"cifar\"):\n",
        "        Xtr, ytr, Xva, yva, Xte, yte = reshape_cifar(*load_dataset(\"datasets/CIFAR.npz\"))\n",
        "    else:\n",
        "        raise ValueError(f\"Unsupported dataset: {dataset_name}\")\n",
        "\n",
        "    train_data = TensorDataset(Xtr, ytr)\n",
        "    val_data = TensorDataset(Xva, yva)\n",
        "    test_data = TensorDataset(Xte, yte)\n",
        "\n",
        "    trans = sig_t(device, Cfg.num_classes)\n",
        "    trans_1 = sig_t(device, Cfg.num_classes)\n",
        "    optimizer_trans = optim.SGD(trans.parameters(), lr=Cfg.lr, weight_decay=0, momentum=0.9)\n",
        "    optimizer_trans_1 = optim.SGD(trans_1.parameters(), lr=Cfg.lr, weight_decay=0, momentum=0.9)\n",
        "\n",
        "\n",
        "    #optimizer and StepLR\n",
        "    optimizer_es = optim.SGD(model.parameters(), lr=Cfg.lr, weight_decay=Cfg.weight_decay, momentum=0.9)\n",
        "    scheduler1 = MultiStepLR(optimizer_es, milestones=milestones, gamma=0.1)\n",
        "    scheduler2 = MultiStepLR(optimizer_trans, milestones=milestones, gamma=0.1)\n",
        "    scheduler3 = MultiStepLR(optimizer_trans_1, milestones=milestones, gamma=0.1)\n",
        "\n",
        "\n",
        "    #data_loader\n",
        "    train_loader = DataLoader(dataset=train_data,\n",
        "                              batch_size=Cfg.batch_size,\n",
        "                              shuffle=True,\n",
        "                              num_workers=4,\n",
        "                              drop_last=False)\n",
        "\n",
        "    val_loader = DataLoader(dataset=val_data,\n",
        "                            batch_size=Cfg.batch_size,\n",
        "                            shuffle=False,\n",
        "                            num_workers=4,\n",
        "                            drop_last=False)\n",
        "\n",
        "    test_loader = DataLoader(dataset=test_data,\n",
        "                             batch_size=Cfg.batch_size,\n",
        "                             num_workers=4,\n",
        "                             drop_last=False)\n",
        "\n",
        "    #cuda\n",
        "    if torch.cuda.is_available:\n",
        "        model = model.to(device)\n",
        "        trans = trans.to(device)\n",
        "        trans_1 = trans_1.to(device)\n",
        "\n",
        "    best_acc = 0\n",
        "    best_acc_back = 0\n",
        "    #warmup\n",
        "    for epoch in range(Cfg.warmup_epoch):\n",
        "        print('epoch[{}], Warmup'.format(epoch + 1))\n",
        "        warmup(train_data, train_loader, model,optimizer_es, scheduler1,criterion)\n",
        "        val(val_data, val_loader, model, trans,criterion)\n",
        "        acc = test(test_data, test_loader, model,criterion)\n",
        "        if acc> best_acc:\n",
        "            best_acc = acc\n",
        "        print('Best_acc: {:.6f}'.format(best_acc))\n",
        "\n",
        "    acc_list = []\n",
        "    for epoch in range(Cfg.n_epoch):\n",
        "        print('epoch[{}], Train'.format(epoch+1))\n",
        "        train(train_data,train_loader,model,trans,trans_1,optimizer_es,optimizer_trans,optimizer_trans_1,scheduler1,scheduler2,scheduler3,criterion)\n",
        "        val(val_data, val_loader, model, trans,criterion)\n",
        "        acc = test(test_data, test_loader, model,criterion)\n",
        "\n",
        "        acc_list.append(acc)\n",
        "\n",
        "        if acc> best_acc:\n",
        "            best_acc = acc\n",
        "\n",
        "\n",
        "        print('Best_acc: {:.6f}'.format(best_acc))\n",
        "\n",
        "\n",
        "    print('Best_acc: ', best_acc)\n",
        "    return best_acc,acc_list\n"
      ],
      "id": "8dbbdbdfbb271868",
      "outputs": [],
      "execution_count": null
    },
    {
      "cell_type": "markdown",
      "source": [
        "# Running"
      ],
      "metadata": {
        "id": "KgVDOhM2nJG6"
      },
      "id": "KgVDOhM2nJG6"
    },
    {
      "metadata": {
        "ExecuteTime": {
          "end_time": "2025-10-26T14:07:58.556750Z",
          "start_time": "2025-10-26T14:07:58.542750Z"
        },
        "id": "2470ffbd9b77e4b0",
        "outputId": "82283d33-7597-4223-a16c-ce7783975ef4"
      },
      "cell_type": "code",
      "source": [
        "cfg = Cfg(num_classes=10, epochs=60, batch_size=128, lr=1e-2,\n",
        "          milestones=(30,60), lam=0.3,\n",
        "          device=\"cuda\" if torch.cuda.is_available() else \"cpu\")\n",
        "\n",
        "best = main(cfg, dataset_name=\"mnist\")   # 或 \"cifar10\"\n",
        "print(\"Best Acc =\", best)"
      ],
      "id": "2470ffbd9b77e4b0",
      "outputs": [
        {
          "name": "stdout",
          "output_type": "stream",
          "text": [
            "\n",
            "✅ Test (MNIST0.3) complete.\n",
            "Best Test Accuracy @ Val = 97.92%\n",
            "\n",
            "Forward T (shape: (3, 3) ) first 3 cols:\n",
            " [[0.756  0.2297 0.0143]\n",
            " [0.0205 0.9129 0.0666]\n",
            " [0.0375 0.0191 0.9434]]\n",
            "\n",
            "Backward T' (shape: (3, 3) ) first 3 cols:\n",
            " [[0.9424 0.0164 0.0412]\n",
            " [0.3008 0.6749 0.0243]\n",
            " [0.0288 0.0546 0.9166]]\n"
          ]
        }
      ],
      "execution_count": null
    },
    {
      "metadata": {
        "id": "ab69b8d668a12854"
      },
      "cell_type": "code",
      "source": [
        "T_est"
      ],
      "id": "ab69b8d668a12854",
      "outputs": [],
      "execution_count": null
    },
    {
      "metadata": {
        "id": "489830f2d82f3ce"
      },
      "cell_type": "code",
      "source": [],
      "id": "489830f2d82f3ce",
      "outputs": [],
      "execution_count": null
    }
  ],
  "metadata": {
    "kernelspec": {
      "display_name": "Python 3",
      "name": "python3"
    },
    "language_info": {
      "codemirror_mode": {
        "name": "ipython",
        "version": 2
      },
      "file_extension": ".py",
      "mimetype": "text/x-python",
      "name": "python",
      "nbconvert_exporter": "python",
      "pygments_lexer": "ipython2",
      "version": "2.7.6"
    },
    "colab": {
      "provenance": [],
      "gpuType": "T4"
    },
    "accelerator": "GPU"
  },
  "nbformat": 4,
  "nbformat_minor": 5
}